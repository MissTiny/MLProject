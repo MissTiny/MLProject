{
 "cells": [
  {
   "cell_type": "markdown",
   "id": "04a42e67-0c71-4509-849a-984e89bd479e",
   "metadata": {},
   "source": [
    "# Tutorial for Huggingface and description of Dataset"
   ]
  },
  {
   "cell_type": "code",
   "execution_count": 1,
   "id": "ea84e526-5868-4332-9aa0-0b750b1b49be",
   "metadata": {},
   "outputs": [],
   "source": [
    "from datasets import load_dataset"
   ]
  },
  {
   "cell_type": "code",
   "execution_count": 2,
   "id": "12abfc3c-eba3-4ba4-b06c-7bec785c2447",
   "metadata": {},
   "outputs": [],
   "source": [
    "# Download Dataset from Huggingface to local specific directory\n",
    "dataset = load_dataset(\"Artificio/WikiArt\",cache_dir=\"D:\\\\MissTiny\\\\GitHub\\\\MLProject\")"
   ]
  },
  {
   "cell_type": "code",
   "execution_count": 3,
   "id": "a77148b1-0020-4465-8b39-1f0bfcb133b3",
   "metadata": {},
   "outputs": [
    {
     "data": {
      "text/plain": [
       "DatasetDict({\n",
       "    train: Dataset({\n",
       "        features: ['title', 'artist', 'date', 'genre', 'style', 'description', 'filename', 'image', 'embeddings_pca512'],\n",
       "        num_rows: 103250\n",
       "    })\n",
       "})"
      ]
     },
     "execution_count": 3,
     "metadata": {},
     "output_type": "execute_result"
    }
   ],
   "source": [
    "dataset"
   ]
  },
  {
   "cell_type": "markdown",
   "id": "96d4737c-5c64-4e6f-b09c-06cd3e0aff7b",
   "metadata": {},
   "source": [
    "## Extract Dataset Information"
   ]
  },
  {
   "cell_type": "markdown",
   "id": "e3df40eb-f6a9-4c63-991d-d1a2a877de69",
   "metadata": {},
   "source": [
    "### Features\n",
    "Original WikiArt dataset contains the following attributes:\n",
    "- Title (string): the title of the painting\n",
    "- artist (string): the name of the artist for the painting\n",
    "- date (string): the published date of the painting\n",
    "- genre (string in classes): type of content for the painting, such as portraits, landscape, genre painting, abstract, nude painting.\n",
    "- style (string in classes): artistic style of the painting, such as Impressionism, Romanticism etc.\n",
    "- description (string): with in the format of \"artist/title/style/genre/date\"\n",
    "- filename (string): the filename ending in .jpg\n",
    "- image (px): the actual image\n",
    "- embeddings_pca512 (sequence): a list of floats with length 512"
   ]
  },
  {
   "cell_type": "code",
   "execution_count": 4,
   "id": "7e87cfcd-13b3-4fe6-804b-c8873940a74d",
   "metadata": {},
   "outputs": [
    {
     "data": {
      "text/plain": [
       "{'title': Value(dtype='string', id=None),\n",
       " 'artist': Value(dtype='string', id=None),\n",
       " 'date': Value(dtype='string', id=None),\n",
       " 'genre': Value(dtype='string', id=None),\n",
       " 'style': Value(dtype='string', id=None),\n",
       " 'description': Value(dtype='string', id=None),\n",
       " 'filename': Value(dtype='string', id=None),\n",
       " 'image': Image(mode=None, decode=True, id=None),\n",
       " 'embeddings_pca512': Sequence(feature=Value(dtype='float32', id=None), length=-1, id=None)}"
      ]
     },
     "execution_count": 4,
     "metadata": {},
     "output_type": "execute_result"
    }
   ],
   "source": [
    "dataset['train'].features"
   ]
  },
  {
   "cell_type": "markdown",
   "id": "05aa96de-b913-4018-9781-19d7875fd7bd",
   "metadata": {},
   "source": [
    "### Samples\n",
    "To navigate individual sample:  dataset [split_folder] [idx]"
   ]
  },
  {
   "cell_type": "code",
   "execution_count": 5,
   "id": "07aa6b12-5fd2-43ba-bd03-164ca8ee05eb",
   "metadata": {
    "scrolled": true
   },
   "outputs": [
    {
     "data": {
      "text/plain": [
       "{'title': 'Cornelia Street',\n",
       " 'artist': 'John French Sloan',\n",
       " 'date': '1920',\n",
       " 'genre': 'cityscape',\n",
       " 'style': 'New Realism',\n",
       " 'description': 'John French Sloan / Cornelia Street / New Realism / cityscape / 1920',\n",
       " 'filename': '0.jpg',\n",
       " 'image': <PIL.JpegImagePlugin.JpegImageFile image mode=RGB size=256x256>,\n",
       " 'embeddings_pca512': [-37.40167999267578,\n",
       "  -87.52667236328125,\n",
       "  42.48488235473633,\n",
       "  -60.555171966552734,\n",
       "  69.24334716796875,\n",
       "  64.89490509033203,\n",
       "  -13.862542152404785,\n",
       "  -22.90911293029785,\n",
       "  33.39680480957031,\n",
       "  4.503255367279053,\n",
       "  40.05317306518555,\n",
       "  -21.32126808166504,\n",
       "  -10.14204216003418,\n",
       "  -61.7667236328125,\n",
       "  -8.394667625427246,\n",
       "  1.3588029146194458,\n",
       "  46.075408935546875,\n",
       "  21.551063537597656,\n",
       "  39.094970703125,\n",
       "  -37.10438537597656,\n",
       "  -0.09842237830162048,\n",
       "  15.846840858459473,\n",
       "  12.409345626831055,\n",
       "  21.888248443603516,\n",
       "  5.111203670501709,\n",
       "  -17.49536895751953,\n",
       "  -21.008153915405273,\n",
       "  49.00922393798828,\n",
       "  8.426753044128418,\n",
       "  -20.033618927001953,\n",
       "  4.312302589416504,\n",
       "  -13.815532684326172,\n",
       "  -26.18567657470703,\n",
       "  25.933237075805664,\n",
       "  -12.01477336883545,\n",
       "  15.869890213012695,\n",
       "  -16.279874801635742,\n",
       "  -8.19188117980957,\n",
       "  0.0533561185002327,\n",
       "  -9.626235008239746,\n",
       "  -5.177135944366455,\n",
       "  -5.386411666870117,\n",
       "  13.457709312438965,\n",
       "  6.353588581085205,\n",
       "  34.43313980102539,\n",
       "  -17.420116424560547,\n",
       "  -2.9093854427337646,\n",
       "  -16.306747436523438,\n",
       "  -23.89691734313965,\n",
       "  -19.747060775756836,\n",
       "  28.454397201538086,\n",
       "  11.426515579223633,\n",
       "  -24.471017837524414,\n",
       "  -3.741621494293213,\n",
       "  23.947629928588867,\n",
       "  -2.0331857204437256,\n",
       "  14.961434364318848,\n",
       "  -9.125632286071777,\n",
       "  12.460264205932617,\n",
       "  -18.93773078918457,\n",
       "  26.830543518066406,\n",
       "  27.62259864807129,\n",
       "  16.705095291137695,\n",
       "  9.884378433227539,\n",
       "  20.52503776550293,\n",
       "  27.70393180847168,\n",
       "  -2.5187976360321045,\n",
       "  -1.0782979726791382,\n",
       "  -25.047603607177734,\n",
       "  -19.90248680114746,\n",
       "  -0.14582610130310059,\n",
       "  16.6655216217041,\n",
       "  5.027087688446045,\n",
       "  8.70600414276123,\n",
       "  7.231958389282227,\n",
       "  17.71346664428711,\n",
       "  -8.580301284790039,\n",
       "  5.764918327331543,\n",
       "  -8.07475757598877,\n",
       "  -3.243612051010132,\n",
       "  25.8117618560791,\n",
       "  23.55438232421875,\n",
       "  -6.450459003448486,\n",
       "  -6.471579074859619,\n",
       "  -16.577539443969727,\n",
       "  -5.4979777336120605,\n",
       "  -13.64190673828125,\n",
       "  3.8750295639038086,\n",
       "  21.680452346801758,\n",
       "  7.05327033996582,\n",
       "  6.967522621154785,\n",
       "  5.457494735717773,\n",
       "  5.0965495109558105,\n",
       "  14.243807792663574,\n",
       "  -10.109898567199707,\n",
       "  7.704442501068115,\n",
       "  -14.472367286682129,\n",
       "  -10.770419120788574,\n",
       "  8.87775707244873,\n",
       "  2.6813037395477295,\n",
       "  -4.006957530975342,\n",
       "  -7.776933670043945,\n",
       "  -4.022490501403809,\n",
       "  -4.97199010848999,\n",
       "  -9.82568359375,\n",
       "  -20.390121459960938,\n",
       "  -2.478978157043457,\n",
       "  -12.496297836303711,\n",
       "  10.354225158691406,\n",
       "  -5.851788520812988,\n",
       "  11.631396293640137,\n",
       "  1.5020064115524292,\n",
       "  21.528759002685547,\n",
       "  27.224605560302734,\n",
       "  -1.4874095916748047,\n",
       "  2.4545774459838867,\n",
       "  -7.459165573120117,\n",
       "  18.36582374572754,\n",
       "  0.06803698092699051,\n",
       "  8.041184425354004,\n",
       "  6.65930700302124,\n",
       "  -24.576656341552734,\n",
       "  -25.834077835083008,\n",
       "  0.05828581005334854,\n",
       "  1.2994208335876465,\n",
       "  0.31775933504104614,\n",
       "  17.06545066833496,\n",
       "  1.151276707649231,\n",
       "  6.546648979187012,\n",
       "  4.134754180908203,\n",
       "  -0.40568774938583374,\n",
       "  8.449525833129883,\n",
       "  -12.529401779174805,\n",
       "  -11.458256721496582,\n",
       "  -18.665502548217773,\n",
       "  -20.46588706970215,\n",
       "  -15.368278503417969,\n",
       "  -5.572258949279785,\n",
       "  -2.1500096321105957,\n",
       "  -9.635055541992188,\n",
       "  8.631181716918945,\n",
       "  0.277754008769989,\n",
       "  -2.267794609069824,\n",
       "  15.873705863952637,\n",
       "  4.074412822723389,\n",
       "  12.071735382080078,\n",
       "  9.829157829284668,\n",
       "  -9.532158851623535,\n",
       "  0.04591209068894386,\n",
       "  -19.264265060424805,\n",
       "  -10.832113265991211,\n",
       "  -0.6616459488868713,\n",
       "  3.8005173206329346,\n",
       "  12.708291053771973,\n",
       "  -5.602144241333008,\n",
       "  -17.21123695373535,\n",
       "  10.703761100769043,\n",
       "  -7.678759574890137,\n",
       "  -7.806621074676514,\n",
       "  -16.941146850585938,\n",
       "  13.779373168945312,\n",
       "  -7.082531452178955,\n",
       "  4.638904094696045,\n",
       "  -3.5721704959869385,\n",
       "  -5.2155866622924805,\n",
       "  -14.047954559326172,\n",
       "  2.6747660636901855,\n",
       "  -1.2054835557937622,\n",
       "  3.0952584743499756,\n",
       "  14.077845573425293,\n",
       "  -2.9817538261413574,\n",
       "  8.517806053161621,\n",
       "  7.507271766662598,\n",
       "  -2.6386141777038574,\n",
       "  10.314414978027344,\n",
       "  -4.619314193725586,\n",
       "  -13.74619197845459,\n",
       "  0.3730156123638153,\n",
       "  -2.7271313667297363,\n",
       "  4.504541397094727,\n",
       "  6.069135665893555,\n",
       "  -15.097243309020996,\n",
       "  4.413702487945557,\n",
       "  3.4740817546844482,\n",
       "  10.006988525390625,\n",
       "  15.911585807800293,\n",
       "  4.535556316375732,\n",
       "  -4.901771068572998,\n",
       "  6.903355121612549,\n",
       "  8.152915954589844,\n",
       "  2.770674228668213,\n",
       "  4.982326507568359,\n",
       "  8.880122184753418,\n",
       "  -2.3815388679504395,\n",
       "  13.026342391967773,\n",
       "  -9.529019355773926,\n",
       "  -16.445711135864258,\n",
       "  14.701233863830566,\n",
       "  -6.436985492706299,\n",
       "  5.007798671722412,\n",
       "  -1.3142884969711304,\n",
       "  0.5600537061691284,\n",
       "  -6.478071212768555,\n",
       "  12.472879409790039,\n",
       "  -1.2699602842330933,\n",
       "  -5.700834274291992,\n",
       "  -21.07301902770996,\n",
       "  0.4321100115776062,\n",
       "  15.292839050292969,\n",
       "  -4.035402774810791,\n",
       "  2.1486012935638428,\n",
       "  4.415168285369873,\n",
       "  -10.291743278503418,\n",
       "  3.265957832336426,\n",
       "  5.492668628692627,\n",
       "  -0.08748474717140198,\n",
       "  7.788784980773926,\n",
       "  2.0118396282196045,\n",
       "  -0.3425945043563843,\n",
       "  10.053256034851074,\n",
       "  -4.919717311859131,\n",
       "  11.38229751586914,\n",
       "  14.348908424377441,\n",
       "  5.041757106781006,\n",
       "  0.9129329323768616,\n",
       "  -6.548462390899658,\n",
       "  0.08399425446987152,\n",
       "  -0.5484930872917175,\n",
       "  -0.4982920289039612,\n",
       "  3.2360105514526367,\n",
       "  -0.22742533683776855,\n",
       "  11.515753746032715,\n",
       "  -18.655845642089844,\n",
       "  -3.0279910564422607,\n",
       "  -6.861622333526611,\n",
       "  20.41657829284668,\n",
       "  -2.9624743461608887,\n",
       "  -2.0338876247406006,\n",
       "  -2.471850633621216,\n",
       "  6.8337836265563965,\n",
       "  -4.538413047790527,\n",
       "  -4.055910110473633,\n",
       "  -3.8244264125823975,\n",
       "  -14.600482940673828,\n",
       "  5.843339920043945,\n",
       "  6.286517143249512,\n",
       "  9.295604705810547,\n",
       "  0.7243643999099731,\n",
       "  -4.59810209274292,\n",
       "  -4.814545154571533,\n",
       "  -0.9877533316612244,\n",
       "  -7.353302955627441,\n",
       "  5.743657112121582,\n",
       "  -1.8474171161651611,\n",
       "  -3.6986870765686035,\n",
       "  0.42456814646720886,\n",
       "  4.801872730255127,\n",
       "  -21.350692749023438,\n",
       "  -2.9420042037963867,\n",
       "  3.8017492294311523,\n",
       "  4.3809614181518555,\n",
       "  3.352544069290161,\n",
       "  -8.41503620147705,\n",
       "  13.438852310180664,\n",
       "  -5.361032485961914,\n",
       "  0.7614907622337341,\n",
       "  2.5142688751220703,\n",
       "  -6.408437252044678,\n",
       "  6.213019847869873,\n",
       "  -10.505749702453613,\n",
       "  5.7774786949157715,\n",
       "  9.047086715698242,\n",
       "  0.7539153695106506,\n",
       "  2.346543073654175,\n",
       "  0.3728528916835785,\n",
       "  0.4178830087184906,\n",
       "  1.061161756515503,\n",
       "  2.002347230911255,\n",
       "  -0.33031660318374634,\n",
       "  -2.2386958599090576,\n",
       "  -6.394218921661377,\n",
       "  11.2897310256958,\n",
       "  -17.404390335083008,\n",
       "  -2.4394607543945312,\n",
       "  1.9318934679031372,\n",
       "  -5.155142307281494,\n",
       "  3.282595157623291,\n",
       "  -7.07395076751709,\n",
       "  3.5446934700012207,\n",
       "  -6.131719589233398,\n",
       "  12.167825698852539,\n",
       "  -4.246879577636719,\n",
       "  -0.9244809746742249,\n",
       "  3.812462329864502,\n",
       "  -4.901323318481445,\n",
       "  4.716203212738037,\n",
       "  5.559933185577393,\n",
       "  5.349034309387207,\n",
       "  -5.1480631828308105,\n",
       "  11.54233169555664,\n",
       "  3.94321608543396,\n",
       "  20.877574920654297,\n",
       "  4.069740295410156,\n",
       "  -13.221614837646484,\n",
       "  -6.931182861328125,\n",
       "  3.3678483963012695,\n",
       "  -0.6659535765647888,\n",
       "  -10.983878135681152,\n",
       "  10.007487297058105,\n",
       "  -0.013315469957888126,\n",
       "  2.273465871810913,\n",
       "  -2.6377530097961426,\n",
       "  -7.149909496307373,\n",
       "  7.264770984649658,\n",
       "  1.6610039472579956,\n",
       "  -11.649933815002441,\n",
       "  5.83809232711792,\n",
       "  -6.509221076965332,\n",
       "  0.10941928625106812,\n",
       "  -0.9056657552719116,\n",
       "  -18.11652946472168,\n",
       "  6.460732460021973,\n",
       "  -2.188883066177368,\n",
       "  3.1629512310028076,\n",
       "  3.998806953430176,\n",
       "  12.168663024902344,\n",
       "  9.3891019821167,\n",
       "  -2.3330154418945312,\n",
       "  1.035016417503357,\n",
       "  11.938521385192871,\n",
       "  4.694192409515381,\n",
       "  -4.750842571258545,\n",
       "  -3.661797046661377,\n",
       "  -3.4356868267059326,\n",
       "  8.074477195739746,\n",
       "  10.142450332641602,\n",
       "  -2.1291325092315674,\n",
       "  -4.901415824890137,\n",
       "  -2.676621198654175,\n",
       "  2.0048704147338867,\n",
       "  -9.317795753479004,\n",
       "  -5.268204689025879,\n",
       "  -3.203071355819702,\n",
       "  0.6141776442527771,\n",
       "  -3.375455141067505,\n",
       "  -1.1054238080978394,\n",
       "  1.9344816207885742,\n",
       "  -2.7069649696350098,\n",
       "  -0.10805343836545944,\n",
       "  -9.173431396484375,\n",
       "  -11.316991806030273,\n",
       "  8.147231101989746,\n",
       "  6.347848892211914,\n",
       "  2.7565653324127197,\n",
       "  2.934885025024414,\n",
       "  -7.665194511413574,\n",
       "  1.241010308265686,\n",
       "  9.335441589355469,\n",
       "  -18.25261688232422,\n",
       "  -10.161203384399414,\n",
       "  2.4268786907196045,\n",
       "  -0.01696798950433731,\n",
       "  3.875218391418457,\n",
       "  17.94922637939453,\n",
       "  -3.863163709640503,\n",
       "  -0.9876003265380859,\n",
       "  2.2623612880706787,\n",
       "  0.6465470194816589,\n",
       "  4.715277194976807,\n",
       "  7.269360065460205,\n",
       "  5.354848384857178,\n",
       "  5.63950252532959,\n",
       "  1.1344493627548218,\n",
       "  -8.25224781036377,\n",
       "  6.327136993408203,\n",
       "  -0.6314811706542969,\n",
       "  1.1171766519546509,\n",
       "  -1.5242596864700317,\n",
       "  11.722393989562988,\n",
       "  -2.7455782890319824,\n",
       "  -1.85459303855896,\n",
       "  -0.45633915066719055,\n",
       "  -0.3015334904193878,\n",
       "  5.896032333374023,\n",
       "  0.39041581749916077,\n",
       "  -5.440589427947998,\n",
       "  0.6468530297279358,\n",
       "  -1.6085904836654663,\n",
       "  -2.007777690887451,\n",
       "  3.9142134189605713,\n",
       "  5.564128875732422,\n",
       "  2.6641452312469482,\n",
       "  6.491220951080322,\n",
       "  -0.14896322786808014,\n",
       "  -0.524904727935791,\n",
       "  4.677457809448242,\n",
       "  -0.889026939868927,\n",
       "  -1.293450951576233,\n",
       "  -6.653091907501221,\n",
       "  -3.005911111831665,\n",
       "  -3.0052201747894287,\n",
       "  -7.3050856590271,\n",
       "  -2.573758840560913,\n",
       "  -3.433291435241699,\n",
       "  0.0317564383149147,\n",
       "  5.1850080490112305,\n",
       "  0.0808178260922432,\n",
       "  -3.382885217666626,\n",
       "  1.3477569818496704,\n",
       "  2.050323724746704,\n",
       "  -3.2283427715301514,\n",
       "  6.17476749420166,\n",
       "  -4.338440418243408,\n",
       "  6.763891696929932,\n",
       "  4.179336071014404,\n",
       "  3.3279736042022705,\n",
       "  2.9846112728118896,\n",
       "  -0.8236239552497864,\n",
       "  -4.733806610107422,\n",
       "  -10.3421630859375,\n",
       "  -1.0395396947860718,\n",
       "  3.6986007690429688,\n",
       "  -0.17998947203159332,\n",
       "  6.274430751800537,\n",
       "  -1.0008331537246704,\n",
       "  -6.872819900512695,\n",
       "  -5.109650135040283,\n",
       "  12.327852249145508,\n",
       "  -5.9612884521484375,\n",
       "  -8.853184700012207,\n",
       "  -1.214980959892273,\n",
       "  2.179685115814209,\n",
       "  0.7980088591575623,\n",
       "  18.099546432495117,\n",
       "  1.8250011205673218,\n",
       "  -2.511868476867676,\n",
       "  -13.204330444335938,\n",
       "  7.146033763885498,\n",
       "  6.807584762573242,\n",
       "  -2.207409620285034,\n",
       "  -4.755980968475342,\n",
       "  12.462265968322754,\n",
       "  2.721859931945801,\n",
       "  -0.8224698305130005,\n",
       "  -0.722214937210083,\n",
       "  7.671730995178223,\n",
       "  2.7515065670013428,\n",
       "  -1.4181314706802368,\n",
       "  -9.482098579406738,\n",
       "  6.859352111816406,\n",
       "  3.2154691219329834,\n",
       "  -11.528892517089844,\n",
       "  1.5296636819839478,\n",
       "  3.462986469268799,\n",
       "  -2.703068494796753,\n",
       "  -0.405975341796875,\n",
       "  -2.015740156173706,\n",
       "  -0.11307219415903091,\n",
       "  3.2046594619750977,\n",
       "  7.72840690612793,\n",
       "  -3.5591988563537598,\n",
       "  4.049811363220215,\n",
       "  -0.6561907529830933,\n",
       "  -0.5394240617752075,\n",
       "  -5.203227519989014,\n",
       "  -6.03461217880249,\n",
       "  11.20313835144043,\n",
       "  17.779861450195312,\n",
       "  9.90014362335205,\n",
       "  -3.1848337650299072,\n",
       "  -3.7770512104034424,\n",
       "  0.9400936961174011,\n",
       "  2.283287525177002,\n",
       "  -2.497424364089966,\n",
       "  9.578304290771484,\n",
       "  5.1755690574646,\n",
       "  -1.2725508213043213,\n",
       "  3.997001886367798,\n",
       "  4.459280490875244,\n",
       "  1.1279284954071045,\n",
       "  -4.32991361618042,\n",
       "  4.876528263092041,\n",
       "  4.700545787811279,\n",
       "  0.9725074172019958,\n",
       "  -4.635318279266357,\n",
       "  -1.0157711505889893,\n",
       "  5.824291706085205,\n",
       "  -3.688997268676758,\n",
       "  0.21492619812488556,\n",
       "  0.15181218087673187,\n",
       "  -2.6560065746307373,\n",
       "  -3.2119104862213135,\n",
       "  2.991243362426758,\n",
       "  -4.808844566345215,\n",
       "  -3.357283353805542,\n",
       "  5.744973182678223,\n",
       "  -7.696100234985352,\n",
       "  4.36549711227417,\n",
       "  3.6494667530059814,\n",
       "  4.323674201965332,\n",
       "  -5.206473350524902,\n",
       "  0.22113731503486633,\n",
       "  0.41715940833091736,\n",
       "  2.8114123344421387,\n",
       "  -0.539952278137207,\n",
       "  2.4986252784729004,\n",
       "  -0.5144171714782715,\n",
       "  -7.972724437713623,\n",
       "  0.831436276435852,\n",
       "  3.4950997829437256,\n",
       "  1.8458726406097412,\n",
       "  -3.4837865829467773]}"
      ]
     },
     "execution_count": 5,
     "metadata": {},
     "output_type": "execute_result"
    }
   ],
   "source": [
    "dataset[\"train\"][0]"
   ]
  },
  {
   "cell_type": "markdown",
   "id": "8e43acf2-da9a-4309-b533-1857b837a33a",
   "metadata": {},
   "source": [
    "To navigate the specific feature of individual sample:  dataset [split_folder] [idx] [feature]"
   ]
  },
  {
   "cell_type": "code",
   "execution_count": 12,
   "id": "b06446f3-88b9-47e3-a173-312bcdb18079",
   "metadata": {},
   "outputs": [
    {
     "data": {
      "image/jpeg": "[encoded data removed]",
      "image/png": "[encoded data removed]",
      "text/plain": [
       "<PIL.JpegImagePlugin.JpegImageFile image mode=RGB size=256x256>"
      ]
     },
     "execution_count": 12,
     "metadata": {},
     "output_type": "execute_result"
    }
   ],
   "source": [
    "# Extracting Images\n",
    "dataset[\"train\"][0][\"image\"]"
   ]
  },
  {
   "cell_type": "code",
   "execution_count": 13,
   "id": "fcd4cda1-c0eb-44dd-b020-c988723c1896",
   "metadata": {},
   "outputs": [
    {
     "data": {
      "text/plain": [
       "'Cornelia Street'"
      ]
     },
     "execution_count": 13,
     "metadata": {},
     "output_type": "execute_result"
    }
   ],
   "source": [
    "# Extracting Titles\n",
    "dataset[\"train\"][0][\"title\"]"
   ]
  },
  {
   "cell_type": "code",
   "execution_count": 14,
   "id": "00878218-a2fd-4ef3-9ac4-b26b12a95ea2",
   "metadata": {},
   "outputs": [
    {
     "data": {
      "text/plain": [
       "'John French Sloan'"
      ]
     },
     "execution_count": 14,
     "metadata": {},
     "output_type": "execute_result"
    }
   ],
   "source": [
    "# Extracting Artist\n",
    "dataset[\"train\"][0][\"artist\"]"
   ]
  },
  {
   "cell_type": "code",
   "execution_count": 15,
   "id": "cdd5b30a-e111-45a3-baf8-54609d961dd8",
   "metadata": {
    "scrolled": true
   },
   "outputs": [
    {
     "data": {
      "text/plain": [
       "[-37.40167999267578,\n",
       " -87.52667236328125,\n",
       " 42.48488235473633,\n",
       " -60.555171966552734,\n",
       " 69.24334716796875,\n",
       " 64.89490509033203,\n",
       " -13.862542152404785,\n",
       " -22.90911293029785,\n",
       " 33.39680480957031,\n",
       " 4.503255367279053,\n",
       " 40.05317306518555,\n",
       " -21.32126808166504,\n",
       " -10.14204216003418,\n",
       " -61.7667236328125,\n",
       " -8.394667625427246,\n",
       " 1.3588029146194458,\n",
       " 46.075408935546875,\n",
       " 21.551063537597656,\n",
       " 39.094970703125,\n",
       " -37.10438537597656,\n",
       " -0.09842237830162048,\n",
       " 15.846840858459473,\n",
       " 12.409345626831055,\n",
       " 21.888248443603516,\n",
       " 5.111203670501709,\n",
       " -17.49536895751953,\n",
       " -21.008153915405273,\n",
       " 49.00922393798828,\n",
       " 8.426753044128418,\n",
       " -20.033618927001953,\n",
       " 4.312302589416504,\n",
       " -13.815532684326172,\n",
       " -26.18567657470703,\n",
       " 25.933237075805664,\n",
       " -12.01477336883545,\n",
       " 15.869890213012695,\n",
       " -16.279874801635742,\n",
       " -8.19188117980957,\n",
       " 0.0533561185002327,\n",
       " -9.626235008239746,\n",
       " -5.177135944366455,\n",
       " -5.386411666870117,\n",
       " 13.457709312438965,\n",
       " 6.353588581085205,\n",
       " 34.43313980102539,\n",
       " -17.420116424560547,\n",
       " -2.9093854427337646,\n",
       " -16.306747436523438,\n",
       " -23.89691734313965,\n",
       " -19.747060775756836,\n",
       " 28.454397201538086,\n",
       " 11.426515579223633,\n",
       " -24.471017837524414,\n",
       " -3.741621494293213,\n",
       " 23.947629928588867,\n",
       " -2.0331857204437256,\n",
       " 14.961434364318848,\n",
       " -9.125632286071777,\n",
       " 12.460264205932617,\n",
       " -18.93773078918457,\n",
       " 26.830543518066406,\n",
       " 27.62259864807129,\n",
       " 16.705095291137695,\n",
       " 9.884378433227539,\n",
       " 20.52503776550293,\n",
       " 27.70393180847168,\n",
       " -2.5187976360321045,\n",
       " -1.0782979726791382,\n",
       " -25.047603607177734,\n",
       " -19.90248680114746,\n",
       " -0.14582610130310059,\n",
       " 16.6655216217041,\n",
       " 5.027087688446045,\n",
       " 8.70600414276123,\n",
       " 7.231958389282227,\n",
       " 17.71346664428711,\n",
       " -8.580301284790039,\n",
       " 5.764918327331543,\n",
       " -8.07475757598877,\n",
       " -3.243612051010132,\n",
       " 25.8117618560791,\n",
       " 23.55438232421875,\n",
       " -6.450459003448486,\n",
       " -6.471579074859619,\n",
       " -16.577539443969727,\n",
       " -5.4979777336120605,\n",
       " -13.64190673828125,\n",
       " 3.8750295639038086,\n",
       " 21.680452346801758,\n",
       " 7.05327033996582,\n",
       " 6.967522621154785,\n",
       " 5.457494735717773,\n",
       " 5.0965495109558105,\n",
       " 14.243807792663574,\n",
       " -10.109898567199707,\n",
       " 7.704442501068115,\n",
       " -14.472367286682129,\n",
       " -10.770419120788574,\n",
       " 8.87775707244873,\n",
       " 2.6813037395477295,\n",
       " -4.006957530975342,\n",
       " -7.776933670043945,\n",
       " -4.022490501403809,\n",
       " -4.97199010848999,\n",
       " -9.82568359375,\n",
       " -20.390121459960938,\n",
       " -2.478978157043457,\n",
       " -12.496297836303711,\n",
       " 10.354225158691406,\n",
       " -5.851788520812988,\n",
       " 11.631396293640137,\n",
       " 1.5020064115524292,\n",
       " 21.528759002685547,\n",
       " 27.224605560302734,\n",
       " -1.4874095916748047,\n",
       " 2.4545774459838867,\n",
       " -7.459165573120117,\n",
       " 18.36582374572754,\n",
       " 0.06803698092699051,\n",
       " 8.041184425354004,\n",
       " 6.65930700302124,\n",
       " -24.576656341552734,\n",
       " -25.834077835083008,\n",
       " 0.05828581005334854,\n",
       " 1.2994208335876465,\n",
       " 0.31775933504104614,\n",
       " 17.06545066833496,\n",
       " 1.151276707649231,\n",
       " 6.546648979187012,\n",
       " 4.134754180908203,\n",
       " -0.40568774938583374,\n",
       " 8.449525833129883,\n",
       " -12.529401779174805,\n",
       " -11.458256721496582,\n",
       " -18.665502548217773,\n",
       " -20.46588706970215,\n",
       " -15.368278503417969,\n",
       " -5.572258949279785,\n",
       " -2.1500096321105957,\n",
       " -9.635055541992188,\n",
       " 8.631181716918945,\n",
       " 0.277754008769989,\n",
       " -2.267794609069824,\n",
       " 15.873705863952637,\n",
       " 4.074412822723389,\n",
       " 12.071735382080078,\n",
       " 9.829157829284668,\n",
       " -9.532158851623535,\n",
       " 0.04591209068894386,\n",
       " -19.264265060424805,\n",
       " -10.832113265991211,\n",
       " -0.6616459488868713,\n",
       " 3.8005173206329346,\n",
       " 12.708291053771973,\n",
       " -5.602144241333008,\n",
       " -17.21123695373535,\n",
       " 10.703761100769043,\n",
       " -7.678759574890137,\n",
       " -7.806621074676514,\n",
       " -16.941146850585938,\n",
       " 13.779373168945312,\n",
       " -7.082531452178955,\n",
       " 4.638904094696045,\n",
       " -3.5721704959869385,\n",
       " -5.2155866622924805,\n",
       " -14.047954559326172,\n",
       " 2.6747660636901855,\n",
       " -1.2054835557937622,\n",
       " 3.0952584743499756,\n",
       " 14.077845573425293,\n",
       " -2.9817538261413574,\n",
       " 8.517806053161621,\n",
       " 7.507271766662598,\n",
       " -2.6386141777038574,\n",
       " 10.314414978027344,\n",
       " -4.619314193725586,\n",
       " -13.74619197845459,\n",
       " 0.3730156123638153,\n",
       " -2.7271313667297363,\n",
       " 4.504541397094727,\n",
       " 6.069135665893555,\n",
       " -15.097243309020996,\n",
       " 4.413702487945557,\n",
       " 3.4740817546844482,\n",
       " 10.006988525390625,\n",
       " 15.911585807800293,\n",
       " 4.535556316375732,\n",
       " -4.901771068572998,\n",
       " 6.903355121612549,\n",
       " 8.152915954589844,\n",
       " 2.770674228668213,\n",
       " 4.982326507568359,\n",
       " 8.880122184753418,\n",
       " -2.3815388679504395,\n",
       " 13.026342391967773,\n",
       " -9.529019355773926,\n",
       " -16.445711135864258,\n",
       " 14.701233863830566,\n",
       " -6.436985492706299,\n",
       " 5.007798671722412,\n",
       " -1.3142884969711304,\n",
       " 0.5600537061691284,\n",
       " -6.478071212768555,\n",
       " 12.472879409790039,\n",
       " -1.2699602842330933,\n",
       " -5.700834274291992,\n",
       " -21.07301902770996,\n",
       " 0.4321100115776062,\n",
       " 15.292839050292969,\n",
       " -4.035402774810791,\n",
       " 2.1486012935638428,\n",
       " 4.415168285369873,\n",
       " -10.291743278503418,\n",
       " 3.265957832336426,\n",
       " 5.492668628692627,\n",
       " -0.08748474717140198,\n",
       " 7.788784980773926,\n",
       " 2.0118396282196045,\n",
       " -0.3425945043563843,\n",
       " 10.053256034851074,\n",
       " -4.919717311859131,\n",
       " 11.38229751586914,\n",
       " 14.348908424377441,\n",
       " 5.041757106781006,\n",
       " 0.9129329323768616,\n",
       " -6.548462390899658,\n",
       " 0.08399425446987152,\n",
       " -0.5484930872917175,\n",
       " -0.4982920289039612,\n",
       " 3.2360105514526367,\n",
       " -0.22742533683776855,\n",
       " 11.515753746032715,\n",
       " -18.655845642089844,\n",
       " -3.0279910564422607,\n",
       " -6.861622333526611,\n",
       " 20.41657829284668,\n",
       " -2.9624743461608887,\n",
       " -2.0338876247406006,\n",
       " -2.471850633621216,\n",
       " 6.8337836265563965,\n",
       " -4.538413047790527,\n",
       " -4.055910110473633,\n",
       " -3.8244264125823975,\n",
       " -14.600482940673828,\n",
       " 5.843339920043945,\n",
       " 6.286517143249512,\n",
       " 9.295604705810547,\n",
       " 0.7243643999099731,\n",
       " -4.59810209274292,\n",
       " -4.814545154571533,\n",
       " -0.9877533316612244,\n",
       " -7.353302955627441,\n",
       " 5.743657112121582,\n",
       " -1.8474171161651611,\n",
       " -3.6986870765686035,\n",
       " 0.42456814646720886,\n",
       " 4.801872730255127,\n",
       " -21.350692749023438,\n",
       " -2.9420042037963867,\n",
       " 3.8017492294311523,\n",
       " 4.3809614181518555,\n",
       " 3.352544069290161,\n",
       " -8.41503620147705,\n",
       " 13.438852310180664,\n",
       " -5.361032485961914,\n",
       " 0.7614907622337341,\n",
       " 2.5142688751220703,\n",
       " -6.408437252044678,\n",
       " 6.213019847869873,\n",
       " -10.505749702453613,\n",
       " 5.7774786949157715,\n",
       " 9.047086715698242,\n",
       " 0.7539153695106506,\n",
       " 2.346543073654175,\n",
       " 0.3728528916835785,\n",
       " 0.4178830087184906,\n",
       " 1.061161756515503,\n",
       " 2.002347230911255,\n",
       " -0.33031660318374634,\n",
       " -2.2386958599090576,\n",
       " -6.394218921661377,\n",
       " 11.2897310256958,\n",
       " -17.404390335083008,\n",
       " -2.4394607543945312,\n",
       " 1.9318934679031372,\n",
       " -5.155142307281494,\n",
       " 3.282595157623291,\n",
       " -7.07395076751709,\n",
       " 3.5446934700012207,\n",
       " -6.131719589233398,\n",
       " 12.167825698852539,\n",
       " -4.246879577636719,\n",
       " -0.9244809746742249,\n",
       " 3.812462329864502,\n",
       " -4.901323318481445,\n",
       " 4.716203212738037,\n",
       " 5.559933185577393,\n",
       " 5.349034309387207,\n",
       " -5.1480631828308105,\n",
       " 11.54233169555664,\n",
       " 3.94321608543396,\n",
       " 20.877574920654297,\n",
       " 4.069740295410156,\n",
       " -13.221614837646484,\n",
       " -6.931182861328125,\n",
       " 3.3678483963012695,\n",
       " -0.6659535765647888,\n",
       " -10.983878135681152,\n",
       " 10.007487297058105,\n",
       " -0.013315469957888126,\n",
       " 2.273465871810913,\n",
       " -2.6377530097961426,\n",
       " -7.149909496307373,\n",
       " 7.264770984649658,\n",
       " 1.6610039472579956,\n",
       " -11.649933815002441,\n",
       " 5.83809232711792,\n",
       " -6.509221076965332,\n",
       " 0.10941928625106812,\n",
       " -0.9056657552719116,\n",
       " -18.11652946472168,\n",
       " 6.460732460021973,\n",
       " -2.188883066177368,\n",
       " 3.1629512310028076,\n",
       " 3.998806953430176,\n",
       " 12.168663024902344,\n",
       " 9.3891019821167,\n",
       " -2.3330154418945312,\n",
       " 1.035016417503357,\n",
       " 11.938521385192871,\n",
       " 4.694192409515381,\n",
       " -4.750842571258545,\n",
       " -3.661797046661377,\n",
       " -3.4356868267059326,\n",
       " 8.074477195739746,\n",
       " 10.142450332641602,\n",
       " -2.1291325092315674,\n",
       " -4.901415824890137,\n",
       " -2.676621198654175,\n",
       " 2.0048704147338867,\n",
       " -9.317795753479004,\n",
       " -5.268204689025879,\n",
       " -3.203071355819702,\n",
       " 0.6141776442527771,\n",
       " -3.375455141067505,\n",
       " -1.1054238080978394,\n",
       " 1.9344816207885742,\n",
       " -2.7069649696350098,\n",
       " -0.10805343836545944,\n",
       " -9.173431396484375,\n",
       " -11.316991806030273,\n",
       " 8.147231101989746,\n",
       " 6.347848892211914,\n",
       " 2.7565653324127197,\n",
       " 2.934885025024414,\n",
       " -7.665194511413574,\n",
       " 1.241010308265686,\n",
       " 9.335441589355469,\n",
       " -18.25261688232422,\n",
       " -10.161203384399414,\n",
       " 2.4268786907196045,\n",
       " -0.01696798950433731,\n",
       " 3.875218391418457,\n",
       " 17.94922637939453,\n",
       " -3.863163709640503,\n",
       " -0.9876003265380859,\n",
       " 2.2623612880706787,\n",
       " 0.6465470194816589,\n",
       " 4.715277194976807,\n",
       " 7.269360065460205,\n",
       " 5.354848384857178,\n",
       " 5.63950252532959,\n",
       " 1.1344493627548218,\n",
       " -8.25224781036377,\n",
       " 6.327136993408203,\n",
       " -0.6314811706542969,\n",
       " 1.1171766519546509,\n",
       " -1.5242596864700317,\n",
       " 11.722393989562988,\n",
       " -2.7455782890319824,\n",
       " -1.85459303855896,\n",
       " -0.45633915066719055,\n",
       " -0.3015334904193878,\n",
       " 5.896032333374023,\n",
       " 0.39041581749916077,\n",
       " -5.440589427947998,\n",
       " 0.6468530297279358,\n",
       " -1.6085904836654663,\n",
       " -2.007777690887451,\n",
       " 3.9142134189605713,\n",
       " 5.564128875732422,\n",
       " 2.6641452312469482,\n",
       " 6.491220951080322,\n",
       " -0.14896322786808014,\n",
       " -0.524904727935791,\n",
       " 4.677457809448242,\n",
       " -0.889026939868927,\n",
       " -1.293450951576233,\n",
       " -6.653091907501221,\n",
       " -3.005911111831665,\n",
       " -3.0052201747894287,\n",
       " -7.3050856590271,\n",
       " -2.573758840560913,\n",
       " -3.433291435241699,\n",
       " 0.0317564383149147,\n",
       " 5.1850080490112305,\n",
       " 0.0808178260922432,\n",
       " -3.382885217666626,\n",
       " 1.3477569818496704,\n",
       " 2.050323724746704,\n",
       " -3.2283427715301514,\n",
       " 6.17476749420166,\n",
       " -4.338440418243408,\n",
       " 6.763891696929932,\n",
       " 4.179336071014404,\n",
       " 3.3279736042022705,\n",
       " 2.9846112728118896,\n",
       " -0.8236239552497864,\n",
       " -4.733806610107422,\n",
       " -10.3421630859375,\n",
       " -1.0395396947860718,\n",
       " 3.6986007690429688,\n",
       " -0.17998947203159332,\n",
       " 6.274430751800537,\n",
       " -1.0008331537246704,\n",
       " -6.872819900512695,\n",
       " -5.109650135040283,\n",
       " 12.327852249145508,\n",
       " -5.9612884521484375,\n",
       " -8.853184700012207,\n",
       " -1.214980959892273,\n",
       " 2.179685115814209,\n",
       " 0.7980088591575623,\n",
       " 18.099546432495117,\n",
       " 1.8250011205673218,\n",
       " -2.511868476867676,\n",
       " -13.204330444335938,\n",
       " 7.146033763885498,\n",
       " 6.807584762573242,\n",
       " -2.207409620285034,\n",
       " -4.755980968475342,\n",
       " 12.462265968322754,\n",
       " 2.721859931945801,\n",
       " -0.8224698305130005,\n",
       " -0.722214937210083,\n",
       " 7.671730995178223,\n",
       " 2.7515065670013428,\n",
       " -1.4181314706802368,\n",
       " -9.482098579406738,\n",
       " 6.859352111816406,\n",
       " 3.2154691219329834,\n",
       " -11.528892517089844,\n",
       " 1.5296636819839478,\n",
       " 3.462986469268799,\n",
       " -2.703068494796753,\n",
       " -0.405975341796875,\n",
       " -2.015740156173706,\n",
       " -0.11307219415903091,\n",
       " 3.2046594619750977,\n",
       " 7.72840690612793,\n",
       " -3.5591988563537598,\n",
       " 4.049811363220215,\n",
       " -0.6561907529830933,\n",
       " -0.5394240617752075,\n",
       " -5.203227519989014,\n",
       " -6.03461217880249,\n",
       " 11.20313835144043,\n",
       " 17.779861450195312,\n",
       " 9.90014362335205,\n",
       " -3.1848337650299072,\n",
       " -3.7770512104034424,\n",
       " 0.9400936961174011,\n",
       " 2.283287525177002,\n",
       " -2.497424364089966,\n",
       " 9.578304290771484,\n",
       " 5.1755690574646,\n",
       " -1.2725508213043213,\n",
       " 3.997001886367798,\n",
       " 4.459280490875244,\n",
       " 1.1279284954071045,\n",
       " -4.32991361618042,\n",
       " 4.876528263092041,\n",
       " 4.700545787811279,\n",
       " 0.9725074172019958,\n",
       " -4.635318279266357,\n",
       " -1.0157711505889893,\n",
       " 5.824291706085205,\n",
       " -3.688997268676758,\n",
       " 0.21492619812488556,\n",
       " 0.15181218087673187,\n",
       " -2.6560065746307373,\n",
       " -3.2119104862213135,\n",
       " 2.991243362426758,\n",
       " -4.808844566345215,\n",
       " -3.357283353805542,\n",
       " 5.744973182678223,\n",
       " -7.696100234985352,\n",
       " 4.36549711227417,\n",
       " 3.6494667530059814,\n",
       " 4.323674201965332,\n",
       " -5.206473350524902,\n",
       " 0.22113731503486633,\n",
       " 0.41715940833091736,\n",
       " 2.8114123344421387,\n",
       " -0.539952278137207,\n",
       " 2.4986252784729004,\n",
       " -0.5144171714782715,\n",
       " -7.972724437713623,\n",
       " 0.831436276435852,\n",
       " 3.4950997829437256,\n",
       " 1.8458726406097412,\n",
       " -3.4837865829467773]"
      ]
     },
     "execution_count": 15,
     "metadata": {},
     "output_type": "execute_result"
    }
   ],
   "source": [
    "# Extracting embeddings_pca 512\n",
    "dataset[\"train\"][0][\"embeddings_pca512\"]"
   ]
  },
  {
   "cell_type": "markdown",
   "id": "c4def27e-ec7e-4fc9-b1a3-90a3715957da",
   "metadata": {},
   "source": [
    "# Data Cleaning Standard"
   ]
  },
  {
   "cell_type": "code",
   "execution_count": 70,
   "id": "9557dc08-646e-4134-8029-827e64be81f8",
   "metadata": {},
   "outputs": [],
   "source": [
    "from datetime import datetime\n",
    "import re"
   ]
  },
  {
   "cell_type": "markdown",
   "id": "f4e8c938-8e05-4b75-9af9-fab71e8c42a1",
   "metadata": {},
   "source": [
    "## Date Cleaning"
   ]
  },
  {
   "cell_type": "code",
   "execution_count": 71,
   "id": "dc4edd9d-7bc2-45d4-930c-9c8bdac2f8c8",
   "metadata": {},
   "outputs": [],
   "source": [
    "# First, the date data is important. We will ignore all painting with None date time.\n",
    "# Other nonsense value are 'rver', 'rain','ific' and '187.0' '198.0' which we believe is wrong. \n",
    "def date_remove_none(example):\n",
    "    date = example['date']\n",
    "    matched = re.search(r\"\\d\\d\\d\\d\",date)\n",
    "    if matched:\n",
    "        return True\n",
    "    else:\n",
    "        return False\n",
    "    "
   ]
  },
  {
   "cell_type": "code",
   "execution_count": 72,
   "id": "8db9a023-7b91-451e-bdb0-8b49347c418b",
   "metadata": {},
   "outputs": [
    {
     "name": "stdout",
     "output_type": "stream",
     "text": [
      "2024-11-12 23:57:18\n"
     ]
    },
    {
     "data": {
      "application/vnd.jupyter.widget-view+json": {
       "model_id": "899c921ab7ed4a48aa632604b2eed27f",
       "version_major": 2,
       "version_minor": 0
      },
      "text/plain": [
       "Filter:   0%|          | 0/103250 [00:00<?, ? examples/s]"
      ]
     },
     "metadata": {},
     "output_type": "display_data"
    },
    {
     "name": "stdout",
     "output_type": "stream",
     "text": [
      "2024-11-12 23:58:55\n"
     ]
    }
   ],
   "source": [
    "print(datetime.now().strftime('%Y-%m-%d %H:%M:%S'))\n",
    "notNoneDataset = dataset.filter(date_remove_none)\n",
    "print(datetime.now().strftime('%Y-%m-%d %H:%M:%S'))"
   ]
  },
  {
   "cell_type": "code",
   "execution_count": 73,
   "id": "67f9c367-8248-400d-8655-4bd9dfb83a2e",
   "metadata": {},
   "outputs": [
    {
     "data": {
      "text/plain": [
       "DatasetDict({\n",
       "    train: Dataset({\n",
       "        features: ['title', 'artist', 'date', 'genre', 'style', 'description', 'filename', 'image', 'embeddings_pca512'],\n",
       "        num_rows: 76881\n",
       "    })\n",
       "})"
      ]
     },
     "execution_count": 73,
     "metadata": {},
     "output_type": "execute_result"
    }
   ],
   "source": [
    "notNoneDataset"
   ]
  },
  {
   "cell_type": "code",
   "execution_count": 74,
   "id": "82183f64-d36f-4df3-b5e2-2921990a17ed",
   "metadata": {},
   "outputs": [],
   "source": [
    "# Then, date has different structures. \n",
    "# Some is in pure time, such as 1954. \n",
    "# Some has c.1968. \n",
    "# Some has 1904.0. \n",
    "# Some has September 1908\n",
    "# We need to clean the data all into the format of 1954\n",
    "\n",
    "def date_format(example):\n",
    "    date = example['date']\n",
    "    matched = re.search(r\"\\d\\d\\d\\d\",date)\n",
    "    try:\n",
    "        example['date']=date[matched.start():matched.end()]\n",
    "    except:\n",
    "        print(f\"{example['date']} can not match\")\n",
    "        print(f\"{example}\")\n",
    "    return example"
   ]
  },
  {
   "cell_type": "code",
   "execution_count": 75,
   "id": "6b455c6c-4ccd-46e3-a541-c14ccedc8b11",
   "metadata": {},
   "outputs": [
    {
     "name": "stdout",
     "output_type": "stream",
     "text": [
      "2024-11-12 23:59:08\n"
     ]
    },
    {
     "data": {
      "application/vnd.jupyter.widget-view+json": {
       "model_id": "3794b6781ed14bb4981d2687500427cc",
       "version_major": 2,
       "version_minor": 0
      },
      "text/plain": [
       "Map:   0%|          | 0/76881 [00:00<?, ? examples/s]"
      ]
     },
     "metadata": {},
     "output_type": "display_data"
    },
    {
     "name": "stdout",
     "output_type": "stream",
     "text": [
      "2024-11-12 23:59:22\n"
     ]
    }
   ],
   "source": [
    "print(datetime.now().strftime('%Y-%m-%d %H:%M:%S'))\n",
    "dateCleanedDataset = notNoneDataset.map(date_format)\n",
    "print(datetime.now().strftime('%Y-%m-%d %H:%M:%S'))"
   ]
  },
  {
   "cell_type": "code",
   "execution_count": 76,
   "id": "293394d7-4aed-42f3-b23a-79bad9609734",
   "metadata": {},
   "outputs": [
    {
     "data": {
      "text/plain": [
       "DatasetDict({\n",
       "    train: Dataset({\n",
       "        features: ['title', 'artist', 'date', 'genre', 'style', 'description', 'filename', 'image', 'embeddings_pca512'],\n",
       "        num_rows: 76881\n",
       "    })\n",
       "})"
      ]
     },
     "execution_count": 76,
     "metadata": {},
     "output_type": "execute_result"
    }
   ],
   "source": [
    "dateCleanedDataset"
   ]
  },
  {
   "cell_type": "markdown",
   "id": "48c5a52e-af23-439a-9a82-b7dfc8b5fcb8",
   "metadata": {},
   "source": [
    "## Artist Cleaning"
   ]
  },
  {
   "cell_type": "code",
   "execution_count": 106,
   "id": "7607d0cd-6e0c-4871-af63-13cbfd27a558",
   "metadata": {},
   "outputs": [],
   "source": [
    "# In this dataset, some value in the artist column is actually the title or description of the image, instead of the artists. \n",
    "# Here we make an easy cut on any artist names with bracket, comma, numbers, '/', more than four English Words.\n",
    "# We also rechecked artist that are removed by above criteria and approved real names by creating a list\n",
    "\n",
    "# Specifically, ' François Leclerc du Tremblay',' François Leclerc du Tremblay (detail)','François Leclerc du Tremblay (detail)' \n",
    "# These are considered as the portrait, and the artist is someone else.\n",
    "def artist_clean(example):\n",
    "    artist = example['artist']\n",
    "    meaningful_artists=['Jose Ferraz de Almeida Junior','Maurice Quentin de La Tour','Maria Helena Vieira da Silva','Marevna (Marie Vorobieff)',\n",
    "                       'Petro Kholodny (Elder)','Louise Elisabeth Vigee Le Brun','António de Carvalho da Silva Porto']\n",
    "    if artist in meaningful_artists:\n",
    "        return True\n",
    "    if re.search(r'\\(|\\,|\\d|\\/',artist):\n",
    "        print(f'{artist} is eliminated')\n",
    "        return False\n",
    "    length = len(artist.split(\" \"))\n",
    "    if length>4:\n",
    "        print(f'{artist} is eliminated')\n",
    "        return False\n",
    "    return True"
   ]
  },
  {
   "cell_type": "code",
   "execution_count": 115,
   "id": "c4b402e7-3760-4a98-a891-6fd500788d26",
   "metadata": {
    "scrolled": true
   },
   "outputs": [
    {
     "name": "stdout",
     "output_type": "stream",
     "text": [
      "2024-11-13 00:57:16\n",
      "2024-11-13 00:57:16\n"
     ]
    }
   ],
   "source": [
    "print(datetime.now().strftime('%Y-%m-%d %H:%M:%S'))\n",
    "artistAndDateCleanedDataset = dateCleanedDataset.filter(artist_clean)\n",
    "print(datetime.now().strftime('%Y-%m-%d %H:%M:%S'))"
   ]
  },
  {
   "cell_type": "code",
   "execution_count": 108,
   "id": "ce4a151c-8bf8-4d08-b7d2-03e3b0877ca4",
   "metadata": {},
   "outputs": [
    {
     "data": {
      "text/plain": [
       "DatasetDict({\n",
       "    train: Dataset({\n",
       "        features: ['title', 'artist', 'date', 'genre', 'style', 'description', 'filename', 'image', 'embeddings_pca512'],\n",
       "        num_rows: 76706\n",
       "    })\n",
       "})"
      ]
     },
     "execution_count": 108,
     "metadata": {},
     "output_type": "execute_result"
    }
   ],
   "source": [
    "artistAndDateCleanedDataset"
   ]
  },
  {
   "cell_type": "code",
   "execution_count": 109,
   "id": "0c9b7c36-ddbb-4e99-bb3f-fa9b7d2fdf59",
   "metadata": {},
   "outputs": [],
   "source": [
    "new_dataset = artistAndDateCleanedDataset"
   ]
  },
  {
   "cell_type": "markdown",
   "id": "0816d516-b761-48ff-bcfa-3f40bab59bc5",
   "metadata": {},
   "source": [
    "# New Dataset Statistics"
   ]
  },
  {
   "cell_type": "code",
   "execution_count": 112,
   "id": "3879178e-4cc7-4640-bb2a-3416bf380267",
   "metadata": {},
   "outputs": [],
   "source": [
    "import numpy as np"
   ]
  },
  {
   "cell_type": "markdown",
   "id": "5a3e9103-049d-4e98-97d8-3927471ee9bf",
   "metadata": {},
   "source": [
    "There are **76706** samples in this dataset. Following are the attributes \n",
    "- **Title (string)**: the title of the painting\n",
    "- **artist (string)**: the name of the artist for the painting. Only two has special characters \"Marevna (Marie Vorobieff)\" and \"Petro Kholodny (Elder)\"\n",
    "- **date (string)**: the published date of the painting in the format of year, e.g. 1950.\n",
    "- **genre (string in classes)**: type of content for the painting. In total 42 unique categories, from large proportion to smaller proportion, such as portrait (13027), landscape(11453) ... None(735)...calligraphy(12),shan shui(10)\n",
    "- **style (string in classes)**: artistic style of the painting. In total 133 unique categories,such as Impressionism(8271),Realism(8167) ...None(468)...Kinetic Art(2), Renaissance(1). Notethat some big categories should be able to merge, however, since we don't care about styles that much, we didn't merge them together.\n",
    "- **description (string)**: with in the format of \"artist/title/style/genre/date\"\n",
    "- **filename (string)**: the filename ending in .jpg\n",
    "- **image (px)**: the actual image\n",
    "- **embeddings_pca512 (sequence)**: a list of floats with length 512"
   ]
  },
  {
   "cell_type": "code",
   "execution_count": 110,
   "id": "3a6a1026-5d69-48d1-a0bf-b4b7cc908d43",
   "metadata": {},
   "outputs": [
    {
     "data": {
      "text/plain": [
       "DatasetDict({\n",
       "    train: Dataset({\n",
       "        features: ['title', 'artist', 'date', 'genre', 'style', 'description', 'filename', 'image', 'embeddings_pca512'],\n",
       "        num_rows: 76706\n",
       "    })\n",
       "})"
      ]
     },
     "execution_count": 110,
     "metadata": {},
     "output_type": "execute_result"
    }
   ],
   "source": [
    "new_dataset"
   ]
  },
  {
   "cell_type": "markdown",
   "id": "dcf6470e-4524-4962-8cc2-eb6e2273acf6",
   "metadata": {},
   "source": [
    "## Genre"
   ]
  },
  {
   "cell_type": "code",
   "execution_count": 134,
   "id": "38886b28-549d-41df-8c7e-ad03a0c62940",
   "metadata": {},
   "outputs": [
    {
     "data": {
      "text/plain": [
       "42"
      ]
     },
     "execution_count": 134,
     "metadata": {},
     "output_type": "execute_result"
    }
   ],
   "source": [
    "unique_genre,unique_counts = np.unique(new_dataset['train']['genre'], return_counts=True)\n",
    "idxs = np.argsort(unique_counts)[::-1]\n",
    "len(unique_genre)"
   ]
  },
  {
   "cell_type": "code",
   "execution_count": 135,
   "id": "55c9141a-6f16-44d9-829a-7d2cc852abbe",
   "metadata": {},
   "outputs": [
    {
     "name": "stdout",
     "output_type": "stream",
     "text": [
      "['portrait' 'landscape' 'genre painting' 'abstract' 'religious painting'\n",
      " 'cityscape' 'still life' 'sketch and study' 'figurative' 'illustration'\n",
      " 'nude painting (nu)' 'symbolic painting' 'mythological painting'\n",
      " 'self-portrait' 'marina' 'design' 'flower painting' 'animal painting'\n",
      " 'allegorical painting' 'None' 'history painting' 'interior'\n",
      " 'literary painting' 'poster' 'battle painting' 'capriccio' 'veduta'\n",
      " 'cloudscape' 'tessellation' 'wildlife painting' 'caricature' 'pastorale'\n",
      " 'yakusha-e' 'advertisement' 'bijinga' 'bird-and-flower painting'\n",
      " 'miniature' 'vanitas' 'quadratura' 'panorama' 'calligraphy' 'shan shui']\n",
      "[13027 11453 10725  8103  5800  3593  2535  2430  1720  1719  1693  1682\n",
      "  1315  1271  1254  1238  1163  1023   762   735   655   515   427   230\n",
      "   210   185   174   156   155   142   136    92    83    67    59    49\n",
      "    44    28    21    15    12    10]\n"
     ]
    }
   ],
   "source": [
    "print(unique_genre[idxs])\n",
    "print(unique_counts[idxs])"
   ]
  },
  {
   "cell_type": "markdown",
   "id": "24fed434-ba86-442e-901e-b95e6665b79c",
   "metadata": {},
   "source": [
    "## Style"
   ]
  },
  {
   "cell_type": "code",
   "execution_count": 136,
   "id": "f1dc3198-7136-4724-b08c-92b4951b0c6f",
   "metadata": {},
   "outputs": [
    {
     "data": {
      "text/plain": [
       "133"
      ]
     },
     "execution_count": 136,
     "metadata": {},
     "output_type": "execute_result"
    }
   ],
   "source": [
    "unique_style,unique_style_counts = np.unique(new_dataset['train']['style'], return_counts=True)\n",
    "style_idxs = np.argsort(unique_style_counts)[::-1]\n",
    "len(unique_style)"
   ]
  },
  {
   "cell_type": "code",
   "execution_count": 138,
   "id": "18282dc6-06ab-49b9-8994-c7c59ea0fada",
   "metadata": {},
   "outputs": [
    {
     "name": "stdout",
     "output_type": "stream",
     "text": [
      "['Impressionism' 'Realism' 'Romanticism' 'Expressionism'\n",
      " 'Post-Impressionism' 'Baroque' 'Art Nouveau (Modern)' 'Surrealism'\n",
      " 'Symbolism' 'Rococo' 'Abstract Expressionism' 'Naïve Art (Primitivism)'\n",
      " 'Northern Renaissance' 'Cubism' 'Neoclassicism'\n",
      " 'Mannerism (Late Renaissance)' 'Early Renaissance' 'High Renaissance'\n",
      " 'Art Informel' 'Color Field Painting' 'Abstract Art' 'Magic Realism'\n",
      " 'Fauvism' 'Academicism' 'Pop Art' 'Lyrical Abstraction' 'Ukiyo-e'\n",
      " 'Concretism' 'None' 'Op Art' 'Minimalism' 'Pointillism'\n",
      " 'Neo-Expressionism' 'Tachisme' 'Hard Edge Painting'\n",
      " 'Ink and wash painting' 'Neo-Romanticism' 'Shin-hanga' 'New Realism'\n",
      " 'Social Realism' 'Proto Renaissance' 'Luminism' 'Sōsaku hanga'\n",
      " 'American Realism' 'Futurism' 'Constructivism' 'Orientalism' 'Art Deco'\n",
      " 'Classicism' 'Regionalism' 'Precisionism' 'Dada' 'Orphism' 'Cloisonnism'\n",
      " 'Tenebrism' 'Synthetic Cubism' 'Tonalism' 'Metaphysical art'\n",
      " 'Post-Painterly Abstraction' 'Neoplasticism' 'Contemporary Realism'\n",
      " 'Muralism' 'Naturalism' 'Divisionism' 'Neo-Dada' 'Purism' 'Biedermeier'\n",
      " 'Nouveau Réalisme' 'Cubo-Futurism' 'Art Brut' 'Intimism' 'Japonism'\n",
      " 'Conceptual Art' 'Socialist Realism' 'Analytical Cubism'\n",
      " 'Action painting' 'Analytical\\xa0Realism' 'Neo-Rococo' 'Spatialism'\n",
      " 'Transautomatism' 'Byzantine' 'Photorealism' 'International Gothic'\n",
      " 'Outsider art' 'Neo-baroque' 'Synthetism' 'Suprematism' 'Mosan art'\n",
      " 'Modernismo' 'Verism' 'Primitivism' 'Neo-Concretism' 'Post-Minimalism'\n",
      " 'Automatic Painting' 'Kitsch' 'Hyper-Realism' 'Lettrism'\n",
      " 'Poster Art Realism' 'Fantastic Realism' 'Neo-Figurative Art'\n",
      " 'Street art' 'New Casualism' 'Gongbi' 'Native Art' 'Tubism'\n",
      " 'Indian Space painting' 'New European Painting'\n",
      " 'Figurative Expressionism' 'Cubo-Expressionism' 'Feminist Art'\n",
      " 'Existential Art' 'Nihonga' 'Safavid Period' 'Nanga (Bunjinga)'\n",
      " 'Neo-Byzantine' 'Mechanistic Cubism' 'Zen' 'Gothic' 'Light and Space'\n",
      " 'Costumbrismo' 'Mail Art' 'Cartographic Art' 'Synchromism' 'Miserablism'\n",
      " 'Timurid Period' 'Rayonism' 'Perceptism ' 'Romanesque' 'Spectralism'\n",
      " 'Ottoman Period' 'Ilkhanid' 'Kinetic Art' 'Renaissance']\n",
      "[8271 8167 6527 5566 4219 3390 3366 3103 2777 1983 1818 1640 1624 1478\n",
      " 1129 1117 1116 1095 1054  837  834  733  619  598  590  574  572  491\n",
      "  468  458  397  396  365  357  328  318  315  263  263  260  255  253\n",
      "  251  241  230  228  226  226  195  193  176  173  168  167  165  163\n",
      "  162  156  149  146  145  133  131  127  126  125  122  121  118  113\n",
      "   99   94   93   87   87   86   81   78   75   73   70   58   58   50\n",
      "   47   47   45   39   38   36   36   35   31   30   30   30   29   28\n",
      "   26   25   23   21   20   20   19   19   19   19   18   17   17   17\n",
      "   17   15   14   13   12   12   11   10    9    9    9    8    7    6\n",
      "    6    5    5    3    2    2    1]\n"
     ]
    }
   ],
   "source": [
    "print(unique_style[style_idxs])\n",
    "print(unique_style_counts[style_idxs])"
   ]
  },
  {
   "cell_type": "markdown",
   "id": "9bb90ac1-9b0a-4e21-953b-379e2704f028",
   "metadata": {},
   "source": [
    "# Upload Dataset"
   ]
  },
  {
   "cell_type": "code",
   "execution_count": 141,
   "id": "c361a73d-9ce3-407a-85b7-7e1f9b49cdf0",
   "metadata": {},
   "outputs": [],
   "source": [
    "from huggingface_hub import login"
   ]
  },
  {
   "cell_type": "code",
   "execution_count": 144,
   "id": "10931381-df48-4f65-b6ed-d5eff0da35dc",
   "metadata": {},
   "outputs": [],
   "source": [
    "# This is the login session, please use your own token.\n",
    "login(token=\"xxx\")"
   ]
  },
  {
   "cell_type": "code",
   "execution_count": 145,
   "id": "0b867c02-b8c9-42f1-85e7-49162d560b76",
   "metadata": {},
   "outputs": [
    {
     "data": {
      "application/vnd.jupyter.widget-view+json": {
       "model_id": "1b83e1d0e6514264830240533adf79f3",
       "version_major": 2,
       "version_minor": 0
      },
      "text/plain": [
       "Uploading the dataset shards:   0%|          | 0/3 [00:00<?, ?it/s]"
      ]
     },
     "metadata": {},
     "output_type": "display_data"
    },
    {
     "data": {
      "application/vnd.jupyter.widget-view+json": {
       "model_id": "c492b52cd39b4bcb972761de3d841ba6",
       "version_major": 2,
       "version_minor": 0
      },
      "text/plain": [
       "Map:   0%|          | 0/25569 [00:00<?, ? examples/s]"
      ]
     },
     "metadata": {},
     "output_type": "display_data"
    },
    {
     "data": {
      "application/vnd.jupyter.widget-view+json": {
       "model_id": "354d9e39663a43e0980db7d183939ea4",
       "version_major": 2,
       "version_minor": 0
      },
      "text/plain": [
       "Creating parquet from Arrow format:   0%|          | 0/256 [00:00<?, ?ba/s]"
      ]
     },
     "metadata": {},
     "output_type": "display_data"
    },
    {
     "data": {
      "application/vnd.jupyter.widget-view+json": {
       "model_id": "75b454e6a8d14d71a254256955b7c7cf",
       "version_major": 2,
       "version_minor": 0
      },
      "text/plain": [
       "Map:   0%|          | 0/25569 [00:00<?, ? examples/s]"
      ]
     },
     "metadata": {},
     "output_type": "display_data"
    },
    {
     "data": {
      "application/vnd.jupyter.widget-view+json": {
       "model_id": "0a96063350fe40c5bf8acfd4811c0b93",
       "version_major": 2,
       "version_minor": 0
      },
      "text/plain": [
       "Creating parquet from Arrow format:   0%|          | 0/256 [00:00<?, ?ba/s]"
      ]
     },
     "metadata": {},
     "output_type": "display_data"
    },
    {
     "data": {
      "application/vnd.jupyter.widget-view+json": {
       "model_id": "7a241d7ad91940b5a24f9c1803559d64",
       "version_major": 2,
       "version_minor": 0
      },
      "text/plain": [
       "Map:   0%|          | 0/25568 [00:00<?, ? examples/s]"
      ]
     },
     "metadata": {},
     "output_type": "display_data"
    },
    {
     "data": {
      "application/vnd.jupyter.widget-view+json": {
       "model_id": "1bbc5ca9ce8d4b5881acd8af35ae583a",
       "version_major": 2,
       "version_minor": 0
      },
      "text/plain": [
       "Creating parquet from Arrow format:   0%|          | 0/256 [00:00<?, ?ba/s]"
      ]
     },
     "metadata": {},
     "output_type": "display_data"
    },
    {
     "data": {
      "text/plain": [
       "CommitInfo(commit_url='https://huggingface.co/datasets/MissTiny/WikiArt/commit/bfd921124ca2a7c39ee326606f87c848beb4b5f8', commit_message='Upload dataset', commit_description='', oid='bfd921124ca2a7c39ee326606f87c848beb4b5f8', pr_url=None, repo_url=RepoUrl('https://huggingface.co/datasets/MissTiny/WikiArt', endpoint='https://huggingface.co', repo_type='dataset', repo_id='MissTiny/WikiArt'), pr_revision=None, pr_num=None)"
      ]
     },
     "execution_count": 145,
     "metadata": {},
     "output_type": "execute_result"
    }
   ],
   "source": [
    "new_dataset.push_to_hub(\"MissTiny/WikiArt\")"
   ]
  },
  {
   "cell_type": "markdown",
   "id": "3533edb2-556c-4377-86bf-2029a213bd15",
   "metadata": {},
   "source": [
    "# Load Dataset From My Repository"
   ]
  },
  {
   "cell_type": "code",
   "execution_count": 146,
   "id": "a5b4c23f-ff4b-4360-9e25-67f213e6ed8e",
   "metadata": {},
   "outputs": [
    {
     "data": {
      "application/vnd.jupyter.widget-view+json": {
       "model_id": "945b5b18258144e1896e31a9f2f930e4",
       "version_major": 2,
       "version_minor": 0
      },
      "text/plain": [
       "README.md:   0%|          | 0.00/597 [00:00<?, ?B/s]"
      ]
     },
     "metadata": {},
     "output_type": "display_data"
    },
    {
     "name": "stderr",
     "output_type": "stream",
     "text": [
      "C:\\Users\\MissTiny\\anaconda3\\envs\\ML\\Lib\\site-packages\\huggingface_hub\\file_download.py:139: UserWarning: `huggingface_hub` cache-system uses symlinks by default to efficiently store duplicated files but your machine does not support them in C:\\Users\\MissTiny\\.cache\\huggingface\\hub\\datasets--MissTiny--WikiArt. Caching files will still work but in a degraded version that might require more space on your disk. This warning can be disabled by setting the `HF_HUB_DISABLE_SYMLINKS_WARNING` environment variable. For more details, see https://huggingface.co/docs/huggingface_hub/how-to-cache#limitations.\n",
      "To support symlinks on Windows, you either need to activate Developer Mode or to run Python as an administrator. In order to activate developer mode, see this article: https://docs.microsoft.com/en-us/windows/apps/get-started/enable-your-device-for-development\n",
      "  warnings.warn(message)\n"
     ]
    },
    {
     "data": {
      "application/vnd.jupyter.widget-view+json": {
       "model_id": "80dc9c7e38a24762bbe1d78c3cb84de8",
       "version_major": 2,
       "version_minor": 0
      },
      "text/plain": [
       "train-00000-of-00003.parquet:   0%|          | 0.00/432M [00:00<?, ?B/s]"
      ]
     },
     "metadata": {},
     "output_type": "display_data"
    },
    {
     "data": {
      "application/vnd.jupyter.widget-view+json": {
       "model_id": "72bd9a0f41d149f59e040cedc3642b13",
       "version_major": 2,
       "version_minor": 0
      },
      "text/plain": [
       "train-00001-of-00003.parquet:   0%|          | 0.00/435M [00:00<?, ?B/s]"
      ]
     },
     "metadata": {},
     "output_type": "display_data"
    },
    {
     "data": {
      "application/vnd.jupyter.widget-view+json": {
       "model_id": "83ff9f24c7f14e5bb396e82f0eabd307",
       "version_major": 2,
       "version_minor": 0
      },
      "text/plain": [
       "train-00002-of-00003.parquet:   0%|          | 0.00/436M [00:00<?, ?B/s]"
      ]
     },
     "metadata": {},
     "output_type": "display_data"
    },
    {
     "data": {
      "application/vnd.jupyter.widget-view+json": {
       "model_id": "31232f55a1ad44e9b2803aa48654dbf8",
       "version_major": 2,
       "version_minor": 0
      },
      "text/plain": [
       "Generating train split:   0%|          | 0/76706 [00:00<?, ? examples/s]"
      ]
     },
     "metadata": {},
     "output_type": "display_data"
    }
   ],
   "source": [
    "# Please modify where you want to save the dataset\n",
    "cleaned_dataset = load_dataset(\"MissTiny/WikiArt\",cache_dir=\"D:\\\\MissTiny\\\\GitHub\\\\MLProject\")"
   ]
  },
  {
   "cell_type": "code",
   "execution_count": 147,
   "id": "e72e1cd2-ad32-491c-84f6-be84f56d114e",
   "metadata": {},
   "outputs": [
    {
     "data": {
      "text/plain": [
       "DatasetDict({\n",
       "    train: Dataset({\n",
       "        features: ['title', 'artist', 'date', 'genre', 'style', 'description', 'filename', 'image', 'embeddings_pca512'],\n",
       "        num_rows: 76706\n",
       "    })\n",
       "})"
      ]
     },
     "execution_count": 147,
     "metadata": {},
     "output_type": "execute_result"
    }
   ],
   "source": [
    "cleaned_dataset "
   ]
  },
  {
   "cell_type": "markdown",
   "id": "6684988c-4f63-4c88-a878-827973f3ae94",
   "metadata": {},
   "source": [
    "1. Label -> Numeric -> Normalize\n",
    "    200040005000 -> Limit reasonable\n",
    "2. Label -> Text\n",
    "\n",
    "1. Embedding\n",
    "2. "
   ]
  }
 ],
 "metadata": {
  "kernelspec": {
   "display_name": "Python 3 (ipykernel)",
   "language": "python",
   "name": "python3"
  },
  "language_info": {
   "codemirror_mode": {
    "name": "ipython",
    "version": 3
   },
   "file_extension": ".py",
   "mimetype": "text/x-python",
   "name": "python",
   "nbconvert_exporter": "python",
   "pygments_lexer": "ipython3",
   "version": "3.9.19"
  }
 },
 "nbformat": 4,
 "nbformat_minor": 5
}
