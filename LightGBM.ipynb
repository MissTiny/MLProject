{
 "cells": [
  {
   "cell_type": "code",
   "execution_count": 51,
   "metadata": {},
   "outputs": [],
   "source": [
    "from datasets import load_dataset, Features, Value\n",
    "import pandas as pd\n",
    "import numpy as np\n",
    "from sklearn.model_selection import train_test_split, RandomizedSearchCV\n",
    "from sklearn.metrics import accuracy_score,mean_absolute_error, mean_squared_error, r2_score\n",
    "from sklearn.preprocessing import LabelEncoder\n",
    "import matplotlib.pyplot as plt\n",
    "import seaborn as sns"
   ]
  },
  {
   "cell_type": "code",
   "execution_count": 52,
   "metadata": {},
   "outputs": [],
   "source": [
    "cleaned_dataset = load_dataset(\"MissTiny/WikiArt\",cache_dir=r\"C:\\Users\\KL\\Desktop\\ML\")"
   ]
  },
  {
   "cell_type": "code",
   "execution_count": 53,
   "metadata": {},
   "outputs": [
    {
     "data": {
      "text/plain": [
       "DatasetDict({\n",
       "    train: Dataset({\n",
       "        features: ['title', 'artist', 'date', 'genre', 'style', 'description', 'filename', 'image', 'embeddings_pca512', 'image_numpy', 'CLIPVisionModelWithProjection_image_embeds'],\n",
       "        num_rows: 57529\n",
       "    })\n",
       "    test: Dataset({\n",
       "        features: ['title', 'artist', 'date', 'genre', 'style', 'description', 'filename', 'image', 'embeddings_pca512', 'image_numpy', 'CLIPVisionModelWithProjection_image_embeds'],\n",
       "        num_rows: 19177\n",
       "    })\n",
       "})"
      ]
     },
     "execution_count": 53,
     "metadata": {},
     "output_type": "execute_result"
    }
   ],
   "source": [
    "cleaned_dataset"
   ]
  },
  {
   "cell_type": "markdown",
   "metadata": {},
   "source": [
    "# LightGBM"
   ]
  },
  {
   "cell_type": "code",
   "execution_count": 54,
   "metadata": {},
   "outputs": [
    {
     "name": "stdout",
     "output_type": "stream",
     "text": [
      "Dataset({\n",
      "    features: ['embeddings_pca512', 'date'],\n",
      "    num_rows: 57529\n",
      "})\n"
     ]
    }
   ],
   "source": [
    "small_dataset = cleaned_dataset['train'].select_columns(['embeddings_pca512', 'date'])\n",
    "print(small_dataset)"
   ]
  },
  {
   "cell_type": "markdown",
   "metadata": {},
   "source": [
    "### Select Years 1800-2000"
   ]
  },
  {
   "cell_type": "code",
   "execution_count": 55,
   "metadata": {},
   "outputs": [
    {
     "name": "stdout",
     "output_type": "stream",
     "text": [
      "Dataset({\n",
      "    features: ['embeddings_pca512', 'date'],\n",
      "    num_rows: 48091\n",
      "})\n"
     ]
    }
   ],
   "source": [
    "filtered_small_dataset = small_dataset.filter(\n",
    "    lambda example: int(example['date']) >= 1800 and int(example['date']) <= 2000\n",
    "    if example['date'].isdigit() else False\n",
    ")\n",
    "\n",
    "print(filtered_small_dataset)"
   ]
  },
  {
   "cell_type": "markdown",
   "metadata": {},
   "source": [
    "### Encode years"
   ]
  },
  {
   "cell_type": "code",
   "execution_count": 56,
   "metadata": {},
   "outputs": [],
   "source": [
    "years = np.array(filtered_small_dataset['date']).astype(int)\n",
    "min_year_encoded = (min(years) - (min(years) // 100 * 100)) // 10 * 10 + (min(years) // 100 * 100)\n",
    "years_encoded = min_year_encoded + ((years - min_year_encoded) // 20 * 20)"
   ]
  },
  {
   "cell_type": "code",
   "execution_count": 57,
   "metadata": {},
   "outputs": [
    {
     "name": "stdout",
     "output_type": "stream",
     "text": [
      "Unique Classes: [1800 1820 1840 1860 1880 1900 1920 1940 1960 1980 2000]\n",
      "Number of Classes: 11\n"
     ]
    }
   ],
   "source": [
    "unique_classes = np.unique(years_encoded)\n",
    "num_classes = len(unique_classes)\n",
    "\n",
    "print(f\"Unique Classes: {unique_classes}\")\n",
    "print(f\"Number of Classes: {num_classes}\")"
   ]
  },
  {
   "cell_type": "code",
   "execution_count": 58,
   "metadata": {},
   "outputs": [
    {
     "name": "stdout",
     "output_type": "stream",
     "text": [
      "Encoded Labels: [5 5 6 3 8] ...\n",
      "Mapping: {np.int64(1800): 0, np.int64(1820): 1, np.int64(1840): 2, np.int64(1860): 3, np.int64(1880): 4, np.int64(1900): 5, np.int64(1920): 6, np.int64(1940): 7, np.int64(1960): 8, np.int64(1980): 9, np.int64(2000): 10}\n"
     ]
    }
   ],
   "source": [
    "label_encoder = LabelEncoder()\n",
    "y_class = label_encoder.fit_transform(years_encoded)\n",
    "\n",
    "print(f\"Encoded Labels: {y_class[0:5]} ...\")\n",
    "print(f\"Mapping: {dict(zip(label_encoder.classes_, range(len(label_encoder.classes_))))}\")\n"
   ]
  },
  {
   "cell_type": "markdown",
   "metadata": {},
   "source": [
    "### Split data"
   ]
  },
  {
   "cell_type": "code",
   "execution_count": 59,
   "metadata": {},
   "outputs": [],
   "source": [
    "embeddings = np.array(filtered_small_dataset['embeddings_pca512'])\n",
    "X = np.vstack(embeddings)\n",
    "y = y_class\n",
    "\n",
    "X_train, X_val, y_train, y_val = train_test_split(X, y, test_size=0.2, random_state=11)"
   ]
  },
  {
   "cell_type": "markdown",
   "metadata": {},
   "source": [
    "### Create LightGBM datasets"
   ]
  },
  {
   "cell_type": "code",
   "execution_count": 60,
   "metadata": {},
   "outputs": [],
   "source": [
    "import lightgbm as lgb\n",
    "train_dataset = lgb.Dataset(X_train, label=y_train)\n",
    "val_dataset = lgb.Dataset(X_val, label=y_val, reference=train_dataset)"
   ]
  },
  {
   "cell_type": "markdown",
   "metadata": {},
   "source": [
    "### Use Random Search to Find Best Model Parameters (Optional; Takes too long)"
   ]
  },
  {
   "cell_type": "code",
   "execution_count": null,
   "metadata": {},
   "outputs": [],
   "source": [
    "# Define a parameter grid\n",
    "param_grid = {\n",
    "    'n_estimators': [100, 300, 1000],\n",
    "    'num_leaves': [15, 31, 63],\n",
    "    'max_depth': [8, 12, 16],\n",
    "    'learning_rate': [0.001, 0.002, 0.005],\n",
    "    'min_data_in_leaf': [100, 200, 500],\n",
    "    'lambda_l1': [0.5, 1.0, 2.0],\n",
    "    'lambda_l2': [0.5, 1.0, 2.0],\n",
    "    'feature_fraction': [0.6, 0.75, 0.9],\n",
    "    'bagging_fraction': [0.6, 0.8, 1.0],\n",
    "    'bagging_freq': [5, 10, 15]\n",
    "}"
   ]
  },
  {
   "cell_type": "code",
   "execution_count": 38,
   "metadata": {},
   "outputs": [],
   "source": [
    "# Initialize a LightGBM classifier\n",
    "lgb_clf = lgb.LGBMClassifier(\n",
    "    objective='multiclassova',\n",
    "    num_class=num_classes,\n",
    "    metric='auc_mu',\n",
    "    is_unbalance=True,\n",
    "    boosting_type='gbdt',\n",
    "    verbose=-1\n",
    ")"
   ]
  },
  {
   "cell_type": "code",
   "execution_count": 39,
   "metadata": {},
   "outputs": [],
   "source": [
    "# Set up RandomizedSearchCV\n",
    "random_search = RandomizedSearchCV(\n",
    "    estimator=lgb_clf,\n",
    "    param_distributions=param_grid,\n",
    "    n_iter=10,\n",
    "    scoring='roc_auc_ovr',\n",
    "    cv=3,\n",
    "    verbose=1,\n",
    "    random_state=11,\n",
    "    n_jobs=-1\n",
    ")"
   ]
  },
  {
   "cell_type": "code",
   "execution_count": null,
   "metadata": {},
   "outputs": [],
   "source": [
    "# Fit the random search model\n",
    "random_search.fit(X_train, y_train, eval_set=[(X_val, y_val)],     \n",
    "                  callbacks=[lgb.early_stopping(stopping_rounds=100),lgb.log_evaluation(1)])\n",
    "\n",
    "# Best parameters\n",
    "print(\"Best parameters found: \", random_search.best_params_)"
   ]
  },
  {
   "cell_type": "markdown",
   "metadata": {},
   "source": [
    "### Train the LightGBM Model"
   ]
  },
  {
   "cell_type": "code",
   "execution_count": 94,
   "metadata": {},
   "outputs": [],
   "source": [
    "params = {\n",
    "    'objective': 'multiclass',\n",
    "    'num_class': num_classes,\n",
    "    'metric': 'multi_logloss',\n",
    "    'is_unbalance': True,\n",
    "    'boosting_type': 'goss',\n",
    "    'learning_rate': 0.002,\n",
    "    'num_leaves': 15,\n",
    "    'max_depth': -1,\n",
    "    #'lambda_l1': 1.0,\n",
    "    #'lambda_l2': 1.0,\n",
    "    #'min_gain_to_split': 0.5,\n",
    "    #'feature_fraction': 0.8,\n",
    "    #'bagging_fraction': 0.8,\n",
    "    #'bagging_freq': 5,\n",
    "    #'scale_pos_weight': 1,\n",
    "    #'verbose': -1\n",
    "}"
   ]
  },
  {
   "cell_type": "code",
   "execution_count": 95,
   "metadata": {},
   "outputs": [
    {
     "name": "stdout",
     "output_type": "stream",
     "text": [
      "Training until validation scores don't improve for 500 rounds\n",
      "[100]\ttrain's multi_logloss: 2.00897\tvalid's multi_logloss: 2.02973\n",
      "[200]\ttrain's multi_logloss: 1.9482\tvalid's multi_logloss: 1.98426\n",
      "[300]\ttrain's multi_logloss: 1.90123\tvalid's multi_logloss: 1.9506\n",
      "[400]\ttrain's multi_logloss: 1.86292\tvalid's multi_logloss: 1.92501\n",
      "[500]\ttrain's multi_logloss: 1.83005\tvalid's multi_logloss: 1.90438\n",
      "[600]\ttrain's multi_logloss: 1.80311\tvalid's multi_logloss: 1.8922\n",
      "[700]\ttrain's multi_logloss: 1.77827\tvalid's multi_logloss: 1.88203\n",
      "[800]\ttrain's multi_logloss: 1.75482\tvalid's multi_logloss: 1.87308\n",
      "[900]\ttrain's multi_logloss: 1.7329\tvalid's multi_logloss: 1.8654\n",
      "[1000]\ttrain's multi_logloss: 1.7122\tvalid's multi_logloss: 1.85852\n",
      "[1100]\ttrain's multi_logloss: 1.69251\tvalid's multi_logloss: 1.85232\n",
      "[1200]\ttrain's multi_logloss: 1.67372\tvalid's multi_logloss: 1.84661\n",
      "[1300]\ttrain's multi_logloss: 1.65553\tvalid's multi_logloss: 1.84133\n",
      "[1400]\ttrain's multi_logloss: 1.638\tvalid's multi_logloss: 1.83633\n",
      "[1500]\ttrain's multi_logloss: 1.62131\tvalid's multi_logloss: 1.83204\n",
      "[1600]\ttrain's multi_logloss: 1.60507\tvalid's multi_logloss: 1.82778\n",
      "[1700]\ttrain's multi_logloss: 1.58923\tvalid's multi_logloss: 1.82396\n",
      "[1800]\ttrain's multi_logloss: 1.57389\tvalid's multi_logloss: 1.82044\n",
      "[1900]\ttrain's multi_logloss: 1.55884\tvalid's multi_logloss: 1.81713\n",
      "[2000]\ttrain's multi_logloss: 1.54434\tvalid's multi_logloss: 1.81399\n",
      "[2100]\ttrain's multi_logloss: 1.53013\tvalid's multi_logloss: 1.81089\n",
      "[2200]\ttrain's multi_logloss: 1.51629\tvalid's multi_logloss: 1.80805\n",
      "[2300]\ttrain's multi_logloss: 1.50275\tvalid's multi_logloss: 1.8055\n",
      "[2400]\ttrain's multi_logloss: 1.48958\tvalid's multi_logloss: 1.80265\n",
      "[2500]\ttrain's multi_logloss: 1.47657\tvalid's multi_logloss: 1.79994\n",
      "[2600]\ttrain's multi_logloss: 1.46394\tvalid's multi_logloss: 1.79755\n",
      "[2700]\ttrain's multi_logloss: 1.45146\tvalid's multi_logloss: 1.79507\n",
      "[2800]\ttrain's multi_logloss: 1.43928\tvalid's multi_logloss: 1.79293\n",
      "[2900]\ttrain's multi_logloss: 1.42735\tvalid's multi_logloss: 1.79069\n",
      "[3000]\ttrain's multi_logloss: 1.41563\tvalid's multi_logloss: 1.78871\n",
      "[3100]\ttrain's multi_logloss: 1.40408\tvalid's multi_logloss: 1.78673\n",
      "[3200]\ttrain's multi_logloss: 1.39276\tvalid's multi_logloss: 1.78476\n",
      "[3300]\ttrain's multi_logloss: 1.38161\tvalid's multi_logloss: 1.7829\n",
      "[3400]\ttrain's multi_logloss: 1.37069\tvalid's multi_logloss: 1.78123\n",
      "[3500]\ttrain's multi_logloss: 1.35994\tvalid's multi_logloss: 1.77952\n",
      "[3600]\ttrain's multi_logloss: 1.34929\tvalid's multi_logloss: 1.77787\n",
      "[3700]\ttrain's multi_logloss: 1.3388\tvalid's multi_logloss: 1.77623\n",
      "[3800]\ttrain's multi_logloss: 1.32859\tvalid's multi_logloss: 1.7748\n",
      "[3900]\ttrain's multi_logloss: 1.31842\tvalid's multi_logloss: 1.77328\n",
      "[4000]\ttrain's multi_logloss: 1.30853\tvalid's multi_logloss: 1.77208\n",
      "[4100]\ttrain's multi_logloss: 1.29873\tvalid's multi_logloss: 1.77063\n",
      "[4200]\ttrain's multi_logloss: 1.28914\tvalid's multi_logloss: 1.76936\n",
      "[4300]\ttrain's multi_logloss: 1.27959\tvalid's multi_logloss: 1.76797\n",
      "[4400]\ttrain's multi_logloss: 1.27028\tvalid's multi_logloss: 1.76674\n",
      "[4500]\ttrain's multi_logloss: 1.26098\tvalid's multi_logloss: 1.76539\n",
      "[4600]\ttrain's multi_logloss: 1.25189\tvalid's multi_logloss: 1.76398\n",
      "[4700]\ttrain's multi_logloss: 1.24289\tvalid's multi_logloss: 1.76272\n",
      "[4800]\ttrain's multi_logloss: 1.23404\tvalid's multi_logloss: 1.76171\n",
      "[4900]\ttrain's multi_logloss: 1.22521\tvalid's multi_logloss: 1.76042\n",
      "[5000]\ttrain's multi_logloss: 1.21655\tvalid's multi_logloss: 1.75936\n",
      "[5100]\ttrain's multi_logloss: 1.20803\tvalid's multi_logloss: 1.7584\n",
      "[5200]\ttrain's multi_logloss: 1.19964\tvalid's multi_logloss: 1.75742\n",
      "[5300]\ttrain's multi_logloss: 1.19135\tvalid's multi_logloss: 1.75633\n",
      "[5400]\ttrain's multi_logloss: 1.18314\tvalid's multi_logloss: 1.75516\n",
      "[5500]\ttrain's multi_logloss: 1.17494\tvalid's multi_logloss: 1.75411\n",
      "[5600]\ttrain's multi_logloss: 1.16688\tvalid's multi_logloss: 1.75304\n",
      "[5700]\ttrain's multi_logloss: 1.15892\tvalid's multi_logloss: 1.75218\n",
      "[5800]\ttrain's multi_logloss: 1.15109\tvalid's multi_logloss: 1.75133\n",
      "[5900]\ttrain's multi_logloss: 1.14335\tvalid's multi_logloss: 1.75062\n",
      "[6000]\ttrain's multi_logloss: 1.1357\tvalid's multi_logloss: 1.74992\n",
      "[6100]\ttrain's multi_logloss: 1.12817\tvalid's multi_logloss: 1.7492\n",
      "[6200]\ttrain's multi_logloss: 1.12071\tvalid's multi_logloss: 1.7484\n",
      "[6300]\ttrain's multi_logloss: 1.11334\tvalid's multi_logloss: 1.74782\n",
      "[6400]\ttrain's multi_logloss: 1.10603\tvalid's multi_logloss: 1.74709\n",
      "[6500]\ttrain's multi_logloss: 1.0988\tvalid's multi_logloss: 1.7465\n",
      "[6600]\ttrain's multi_logloss: 1.09165\tvalid's multi_logloss: 1.74576\n",
      "[6700]\ttrain's multi_logloss: 1.08454\tvalid's multi_logloss: 1.74526\n",
      "[6800]\ttrain's multi_logloss: 1.07758\tvalid's multi_logloss: 1.74457\n",
      "[6900]\ttrain's multi_logloss: 1.07074\tvalid's multi_logloss: 1.74413\n",
      "[7000]\ttrain's multi_logloss: 1.06389\tvalid's multi_logloss: 1.74351\n",
      "[7100]\ttrain's multi_logloss: 1.05713\tvalid's multi_logloss: 1.74282\n",
      "[7200]\ttrain's multi_logloss: 1.05048\tvalid's multi_logloss: 1.74246\n",
      "[7300]\ttrain's multi_logloss: 1.04384\tvalid's multi_logloss: 1.74187\n",
      "[7400]\ttrain's multi_logloss: 1.03727\tvalid's multi_logloss: 1.74162\n",
      "[7500]\ttrain's multi_logloss: 1.0308\tvalid's multi_logloss: 1.74116\n",
      "[7600]\ttrain's multi_logloss: 1.02438\tvalid's multi_logloss: 1.74074\n",
      "[7700]\ttrain's multi_logloss: 1.01803\tvalid's multi_logloss: 1.74043\n",
      "[7800]\ttrain's multi_logloss: 1.01177\tvalid's multi_logloss: 1.74005\n",
      "[7900]\ttrain's multi_logloss: 1.00556\tvalid's multi_logloss: 1.7399\n",
      "[8000]\ttrain's multi_logloss: 0.999402\tvalid's multi_logloss: 1.73972\n",
      "[8100]\ttrain's multi_logloss: 0.993264\tvalid's multi_logloss: 1.73948\n",
      "[8200]\ttrain's multi_logloss: 0.987242\tvalid's multi_logloss: 1.73916\n",
      "[8300]\ttrain's multi_logloss: 0.981239\tvalid's multi_logloss: 1.73907\n",
      "[8400]\ttrain's multi_logloss: 0.975294\tvalid's multi_logloss: 1.73891\n",
      "[8500]\ttrain's multi_logloss: 0.969386\tvalid's multi_logloss: 1.73867\n",
      "[8600]\ttrain's multi_logloss: 0.963576\tvalid's multi_logloss: 1.7383\n",
      "[8700]\ttrain's multi_logloss: 0.957819\tvalid's multi_logloss: 1.73812\n",
      "[8800]\ttrain's multi_logloss: 0.952145\tvalid's multi_logloss: 1.73796\n",
      "[8900]\ttrain's multi_logloss: 0.946498\tvalid's multi_logloss: 1.73786\n",
      "[9000]\ttrain's multi_logloss: 0.940915\tvalid's multi_logloss: 1.73775\n",
      "[9100]\ttrain's multi_logloss: 0.935393\tvalid's multi_logloss: 1.73773\n",
      "[9200]\ttrain's multi_logloss: 0.929934\tvalid's multi_logloss: 1.73751\n",
      "[9300]\ttrain's multi_logloss: 0.924512\tvalid's multi_logloss: 1.73736\n",
      "[9400]\ttrain's multi_logloss: 0.91911\tvalid's multi_logloss: 1.73741\n",
      "[9500]\ttrain's multi_logloss: 0.913756\tvalid's multi_logloss: 1.73725\n",
      "[9600]\ttrain's multi_logloss: 0.908529\tvalid's multi_logloss: 1.73724\n",
      "[9700]\ttrain's multi_logloss: 0.90326\tvalid's multi_logloss: 1.73736\n",
      "[9800]\ttrain's multi_logloss: 0.898079\tvalid's multi_logloss: 1.73737\n",
      "[9900]\ttrain's multi_logloss: 0.892954\tvalid's multi_logloss: 1.73732\n",
      "[10000]\ttrain's multi_logloss: 0.887866\tvalid's multi_logloss: 1.73745\n",
      "Did not meet early stopping. Best iteration is:\n",
      "[9580]\ttrain's multi_logloss: 0.909568\tvalid's multi_logloss: 1.73717\n"
     ]
    }
   ],
   "source": [
    "gbm = lgb.train(\n",
    "    params,\n",
    "    train_dataset,\n",
    "    num_boost_round=10000,\n",
    "    valid_sets=[train_dataset, val_dataset],\n",
    "    valid_names=['train', 'valid'],\n",
    "    callbacks=[\n",
    "        lgb.early_stopping(stopping_rounds=500),\n",
    "        lgb.log_evaluation(100)\n",
    "    ]\n",
    ")"
   ]
  },
  {
   "cell_type": "markdown",
   "metadata": {},
   "source": [
    "### Model Evaluation"
   ]
  },
  {
   "cell_type": "code",
   "execution_count": 96,
   "metadata": {},
   "outputs": [
    {
     "name": "stdout",
     "output_type": "stream",
     "text": [
      "Validation Accuracy: 0.3562\n"
     ]
    }
   ],
   "source": [
    "# Evaluate the model\n",
    "y_pred = gbm.predict(X_val)\n",
    "y_pred_classes = np.argmax(y_pred, axis=1)\n",
    "\n",
    "accuracy = accuracy_score(y_val, y_pred_classes)\n",
    "print(f\"Validation Accuracy: {accuracy:.4f}\")"
   ]
  },
  {
   "cell_type": "code",
   "execution_count": null,
   "metadata": {},
   "outputs": [
    {
     "data": {
      "text/plain": [
       "<lightgbm.basic.Booster at 0x1ce777d4430>"
      ]
     },
     "execution_count": 97,
     "metadata": {},
     "output_type": "execute_result"
    }
   ],
   "source": [
    "gbm.save_model(\"lightgbm_model.txt\")"
   ]
  }
 ],
 "metadata": {
  "kernelspec": {
   "display_name": "NYU",
   "language": "python",
   "name": "python3"
  },
  "language_info": {
   "codemirror_mode": {
    "name": "ipython",
    "version": 3
   },
   "file_extension": ".py",
   "mimetype": "text/x-python",
   "name": "python",
   "nbconvert_exporter": "python",
   "pygments_lexer": "ipython3",
   "version": "3.10.6"
  }
 },
 "nbformat": 4,
 "nbformat_minor": 2
}
